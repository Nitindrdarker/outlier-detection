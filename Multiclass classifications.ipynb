{
 "cells": [
  {
   "cell_type": "code",
   "execution_count": 1,
   "id": "de8f9d2b",
   "metadata": {},
   "outputs": [],
   "source": [
    "from sklearn import metrics"
   ]
  },
  {
   "cell_type": "code",
   "execution_count": 2,
   "id": "39eddb95",
   "metadata": {},
   "outputs": [],
   "source": [
    "c = 'Cat'\n",
    "d = 'Dog'\n",
    "f = 'Fox'"
   ]
  },
  {
   "cell_type": "code",
   "execution_count": 3,
   "id": "258ecbf4",
   "metadata": {},
   "outputs": [
    {
     "name": "stdout",
     "output_type": "stream",
     "text": [
      "[[4 1 1]\n",
      " [3 6 0]\n",
      " [6 2 2]]\n",
      "              precision    recall  f1-score   support\n",
      "\n",
      "         Cat      0.308     0.667     0.421         6\n",
      "         Dog      0.667     0.667     0.667         9\n",
      "         Fox      0.667     0.200     0.308        10\n",
      "\n",
      "    accuracy                          0.480        25\n",
      "   macro avg      0.547     0.511     0.465        25\n",
      "weighted avg      0.581     0.480     0.464        25\n",
      "\n"
     ]
    }
   ],
   "source": [
    "y_true = [c,c,c,c,c,c, f,f,f,f,f,f,f,f,f,f, d,d,d,d,d,d,d,d,d]\n",
    "y_pred = [c,c,c,c,d,f, c,c,c,c,c,c,d,d,f,f, c,c,c,d,d,d,d,d,d]\n",
    "print(metrics.confusion_matrix(y_true, y_pred))#print confusion matrix\n",
    "print(metrics.classification_report(y_true, y_pred, digits=3))#print precision and recall, among other metrics"
   ]
  },
  {
   "cell_type": "code",
   "execution_count": null,
   "id": "32a6eda0",
   "metadata": {},
   "outputs": [],
   "source": []
  }
 ],
 "metadata": {
  "kernelspec": {
   "display_name": "Python 3",
   "language": "python",
   "name": "python3"
  },
  "language_info": {
   "codemirror_mode": {
    "name": "ipython",
    "version": 3
   },
   "file_extension": ".py",
   "mimetype": "text/x-python",
   "name": "python",
   "nbconvert_exporter": "python",
   "pygments_lexer": "ipython3",
   "version": "3.9.5"
  }
 },
 "nbformat": 4,
 "nbformat_minor": 5
}
