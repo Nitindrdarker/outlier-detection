{
 "cells": [
  {
   "cell_type": "code",
   "execution_count": 1,
   "id": "b3820fd9",
   "metadata": {},
   "outputs": [],
   "source": [
    "import numpy as np\n",
    "import matplotlib.pyplot as plt"
   ]
  },
  {
   "cell_type": "code",
   "execution_count": 2,
   "id": "35f59b6b",
   "metadata": {},
   "outputs": [],
   "source": [
    "l = np.array([12,13,11,12,14,15,16,17,13,13,14,140,12,13,11,12,14,15,16,17,13,13,14,190,12,13,11,12,14,15,16,17,13,13,14,120,12,13,11,12,14,15,16,17,13,13,14,200])"
   ]
  },
  {
   "cell_type": "markdown",
   "id": "1a06345f",
   "metadata": {},
   "source": [
    "# detection using z - score\n",
    "we simply find the z score using the formula z = (mean - i)/s.d and in genral if its absolute value ins grater then 3 then it is an  outlier "
   ]
  },
  {
   "cell_type": "code",
   "execution_count": 17,
   "id": "9ffe26f0",
   "metadata": {},
   "outputs": [],
   "source": [
    "outliers = []\n",
    "threshold = 2#@dn sd standard deviation\n",
    "def zscore(data):\n",
    "    for i in data:\n",
    "       \n",
    "        if (abs(np.mean(data) - i)/np.std(data)) > threshold:\n",
    "            outliers.append(i)\n",
    "            "
   ]
  },
  {
   "cell_type": "code",
   "execution_count": 18,
   "id": "ad45cf4a",
   "metadata": {},
   "outputs": [],
   "source": [
    "zscore(l)"
   ]
  },
  {
   "cell_type": "code",
   "execution_count": 19,
   "id": "520e16b5",
   "metadata": {},
   "outputs": [
    {
     "data": {
      "text/plain": [
       "[140, 190, 120, 200]"
      ]
     },
     "execution_count": 19,
     "metadata": {},
     "output_type": "execute_result"
    }
   ],
   "source": [
    "outliers"
   ]
  },
  {
   "cell_type": "markdown",
   "id": "1ea4b3c5",
   "metadata": {},
   "source": [
    "# detection using Inter-Quartile Range\n",
    "0. sort data\n",
    "1. we find the percentile of the data sets\n",
    "2. then we find 25% and 75% say first quadril q1 and third quadril q3 point of data sets\n",
    "3. subtract both which will be called IQR\n",
    "4. then find the upper bound and ower bound q1*1.5 and q3*1.5"
   ]
  },
  {
   "cell_type": "code",
   "execution_count": 33,
   "id": "85b5f799",
   "metadata": {},
   "outputs": [],
   "source": [
    "l = sorted(l)"
   ]
  },
  {
   "cell_type": "code",
   "execution_count": 34,
   "id": "289d08f4",
   "metadata": {},
   "outputs": [],
   "source": [
    "q1, q3 = np.percentile(l, [25, 75])"
   ]
  },
  {
   "cell_type": "code",
   "execution_count": 35,
   "id": "05d90500",
   "metadata": {},
   "outputs": [],
   "source": [
    "iqr = q3 - q1"
   ]
  },
  {
   "cell_type": "code",
   "execution_count": 36,
   "id": "6dd21dab",
   "metadata": {},
   "outputs": [
    {
     "data": {
      "text/plain": [
       "2.5"
      ]
     },
     "execution_count": 36,
     "metadata": {},
     "output_type": "execute_result"
    }
   ],
   "source": [
    "iqr"
   ]
  },
  {
   "cell_type": "code",
   "execution_count": 37,
   "id": "bb80bb4a",
   "metadata": {},
   "outputs": [],
   "source": [
    "lower_bound = q1 - (1.5*iqr)\n",
    "upper_bound = q3 + (1.5*iqr)"
   ]
  },
  {
   "cell_type": "code",
   "execution_count": 38,
   "id": "2b3afb7a",
   "metadata": {},
   "outputs": [
    {
     "data": {
      "text/plain": [
       "(9.0, 19.0)"
      ]
     },
     "execution_count": 38,
     "metadata": {},
     "output_type": "execute_result"
    }
   ],
   "source": [
    "lower_bound, upper_bound"
   ]
  },
  {
   "cell_type": "code",
   "execution_count": null,
   "id": "2928a6c9",
   "metadata": {},
   "outputs": [],
   "source": []
  }
 ],
 "metadata": {
  "kernelspec": {
   "display_name": "Python 3",
   "language": "python",
   "name": "python3"
  },
  "language_info": {
   "codemirror_mode": {
    "name": "ipython",
    "version": 3
   },
   "file_extension": ".py",
   "mimetype": "text/x-python",
   "name": "python",
   "nbconvert_exporter": "python",
   "pygments_lexer": "ipython3",
   "version": "3.9.5"
  }
 },
 "nbformat": 4,
 "nbformat_minor": 5
}
